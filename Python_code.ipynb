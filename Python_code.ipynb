{
  "nbformat": 4,
  "nbformat_minor": 0,
  "metadata": {
    "colab": {
      "provenance": [],
      "authorship_tag": "ABX9TyMf3Hbi5EKp6UeYzUQpFc6o",
      "include_colab_link": true
    },
    "kernelspec": {
      "name": "python3",
      "display_name": "Python 3"
    },
    "language_info": {
      "name": "python"
    }
  },
  "cells": [
    {
      "cell_type": "markdown",
      "metadata": {
        "id": "view-in-github",
        "colab_type": "text"
      },
      "source": [
        "<a href=\"https://colab.research.google.com/github/riii-257/basicpython/blob/main/Python_code.ipynb\" target=\"_parent\"><img src=\"https://colab.research.google.com/assets/colab-badge.svg\" alt=\"Open In Colab\"/></a>"
      ]
    },
    {
      "cell_type": "markdown",
      "source": [
        "##**1. Largest number out of 3 numbers**\n",
        "\n",
        "\n",
        "\n",
        "\n",
        "*   Step 1: Input three numbers\n",
        "\n",
        "*   Step 2: Find the largest number by using if conditional statement\n",
        "\n",
        "*   Step 3: Display the largest number\n",
        "\n",
        "\n",
        "\n",
        "\n",
        "\n",
        "\n",
        "\n",
        "\n"
      ],
      "metadata": {
        "id": "znuJKBkx8wHv"
      }
    },
    {
      "cell_type": "code",
      "source": [
        "num1 = float(input(\"Enter first number: \"))\n",
        "num2 = float(input(\"Enter second number: \"))\n",
        "num3 = float(input(\"Enter third number: \"))\n",
        "if (num1 >= num2) and (num1 >= num3):\n",
        "   largest = num1\n",
        "elif (num2 >= num1) and (num2 >= num3):\n",
        "   largest = num2\n",
        "else:\n",
        "   largest = num3\n",
        "print(\"The largest number is\", largest)\n"
      ],
      "metadata": {
        "colab": {
          "base_uri": "https://localhost:8080/"
        },
        "id": "VymhyZa5AahL",
        "outputId": "6359811d-326e-4b50-9e10-3c5676c453d7"
      },
      "execution_count": null,
      "outputs": [
        {
          "output_type": "stream",
          "name": "stdout",
          "text": [
            "Enter first number: 4\n",
            "Enter second number: 7\n",
            "Enter third number: 8\n",
            "The largest number is 8.0\n"
          ]
        }
      ]
    },
    {
      "cell_type": "markdown",
      "source": [
        "## **2. Printing multiplication table**\n",
        "\n",
        "\n",
        "\n",
        "*  Step 1: Input the number, num\n",
        "\n",
        "*  Step 2: for i=1 to 10, display i*num\n",
        "\n",
        "\n",
        "\n"
      ],
      "metadata": {
        "id": "8asXG2fJBsw5"
      }
    },
    {
      "cell_type": "code",
      "source": [
        "# Multiplication table (from 1 to 10) in Python\n",
        "\n",
        "\n",
        "num = int(input(\"Display multiplication table of? \"))\n",
        "\n",
        "# Iterate 10 times from i = 1 to 10\n",
        "for i in range(1, 11):\n",
        "   print(num, 'x', i, '=', num*i)"
      ],
      "metadata": {
        "colab": {
          "base_uri": "https://localhost:8080/"
        },
        "id": "ayJC4E_4CPXQ",
        "outputId": "09072f45-4843-420e-e1fe-9af8da42b34f"
      },
      "execution_count": null,
      "outputs": [
        {
          "output_type": "stream",
          "name": "stdout",
          "text": [
            "Display multiplication table of? 10\n",
            "10 x 1 = 10\n",
            "10 x 2 = 20\n",
            "10 x 3 = 30\n",
            "10 x 4 = 40\n",
            "10 x 5 = 50\n",
            "10 x 6 = 60\n",
            "10 x 7 = 70\n",
            "10 x 8 = 80\n",
            "10 x 9 = 90\n",
            "10 x 10 = 100\n"
          ]
        }
      ]
    },
    {
      "cell_type": "markdown",
      "source": [
        "## **3. Check for sign of a number**\n",
        "\n",
        "\n",
        "\n",
        "*   Step 1: Input a number.\n",
        "\n",
        "*   Step 2: Check if the number is less than 0, 0 or greater than 0\n",
        "      *   Step 2.1: If the number is less than 0, display 'Negative'.\n",
        "      *   Step 2.2: If the number is greater than 0, display 'Positive'.\n",
        "      *   sTEP 2.3: If the number is 0, then display 'Zero'.\n",
        "\n",
        "\n",
        "\n",
        "\n",
        "\n",
        "\n",
        "\n",
        "\n",
        "\n",
        "\n"
      ],
      "metadata": {
        "id": "66MY1SRyCXX5"
      }
    },
    {
      "cell_type": "code",
      "source": [
        "num = float(input(\"Enter a number: \"))\n",
        "if num > 0:\n",
        "   print(\"Positive number\")\n",
        "elif num == 0:\n",
        "   print(\"Zero\")\n",
        "else:\n",
        "   print(\"Negative number\")"
      ],
      "metadata": {
        "colab": {
          "base_uri": "https://localhost:8080/"
        },
        "id": "DRvTYa4QDrV7",
        "outputId": "8a9a4486-fd7c-4392-c0f4-c8dc33b042fa"
      },
      "execution_count": null,
      "outputs": [
        {
          "output_type": "stream",
          "name": "stdout",
          "text": [
            "Enter a number: 6\n",
            "Positive number\n"
          ]
        }
      ]
    },
    {
      "cell_type": "markdown",
      "source": [
        "## **4. Find surface area and volume of a cylinder**\n",
        "\n",
        "*   Step 1: Assign pi=3.14, r=2.6 and h=1.6, where r is the base radius and h is the height.\n",
        "\n",
        "*   Step 2: Apply the following formula to find surface area: $$SA=2\\pi r(r+h)$$ \n",
        "\n",
        "\n",
        "*   Step 3: Apply the following formula to find volume: $$V=\\pi r^2 h$$\n",
        "\n",
        "*   Step 4: Display results\n",
        "\n",
        "\n",
        "\n",
        "\n"
      ],
      "metadata": {
        "id": "oLJ9ncTsEDiv"
      }
    },
    {
      "cell_type": "code",
      "source": [
        "#from math import pi\n",
        "pi=3.14\n",
        "r=2.6\n",
        "h=1.6\n",
        "SA=2*pi*r*(r+h)\n",
        "V=pi*r**2*h\n",
        "print((\"Surface Area is {} and Volume is {}\").format(SA,V))"
      ],
      "metadata": {
        "colab": {
          "base_uri": "https://localhost:8080/"
        },
        "id": "S80bCqLTFBhx",
        "outputId": "ca56784e-03c9-4e1f-93a5-f35187740a5a"
      },
      "execution_count": null,
      "outputs": [
        {
          "output_type": "stream",
          "name": "stdout",
          "text": [
            "Surface Area is 68.57760000000002 and Volume is 33.96224\n"
          ]
        }
      ]
    },
    {
      "cell_type": "markdown",
      "source": [
        "## **5. Find area of a circle with radius r using user input**\n",
        "\n",
        "*   Step 1: Input radius, r\n",
        "\n",
        "*   Step 2: Apply the following formula to find area and display area:$$Area= \\pi r^2$$\n",
        "\n"
      ],
      "metadata": {
        "id": "TtcoYqnBFHEi"
      }
    },
    {
      "cell_type": "code",
      "source": [
        "\"\"\"\n",
        "program to find area of a circle\n",
        "\"\"\"\n",
        "r=float(input(\"Enter the radius: \"))\n",
        "print(\"Area: \",pi*r**2)"
      ],
      "metadata": {
        "colab": {
          "base_uri": "https://localhost:8080/"
        },
        "id": "lFUxTSmiFyFJ",
        "outputId": "561e6ef7-7dad-457f-8d56-9f619b4929cb"
      },
      "execution_count": null,
      "outputs": [
        {
          "output_type": "stream",
          "name": "stdout",
          "text": [
            "Enter the radius: 5\n",
            "Area:  78.5\n"
          ]
        }
      ]
    },
    {
      "cell_type": "markdown",
      "source": [
        "## **6. Find the area of a rectangle with length l and breadth b**\n",
        "\n",
        "\n",
        "\n",
        "*   Step 1: Assign length, l as 2 and breadth, b as 5.2\n",
        "\n",
        "*   Step 2: Apply the following formula to find area: $$Area= lb$$\n",
        "\n",
        "\n",
        "*   Step 3: Display area\n",
        "\n",
        "\n",
        "\n"
      ],
      "metadata": {
        "id": "NXm0VJCAF1zR"
      }
    },
    {
      "cell_type": "code",
      "source": [
        "l=2;b=5.2\n",
        "Area=l*b\n",
        "print(\"Area of the Rectangle is : \",Area)"
      ],
      "metadata": {
        "colab": {
          "base_uri": "https://localhost:8080/"
        },
        "id": "DpvmDDI4Gbq6",
        "outputId": "7d78cd58-478e-4385-89de-4139421f8eb1"
      },
      "execution_count": null,
      "outputs": [
        {
          "output_type": "stream",
          "name": "stdout",
          "text": [
            "Area of the Rectangle is :  10.4\n"
          ]
        }
      ]
    },
    {
      "cell_type": "markdown",
      "source": [
        "## **7. Replacing a word with another word in a sentence**\n",
        "\n",
        "\n",
        "\n",
        "*   Step 1: Assign text with string\n",
        "\n",
        "*   Step 2: Use the function `text.replace()` to replace hand with foot and assign the result to replaced_text\n",
        "\n",
        "*   Step 3: Display replaced_text\n",
        "\n",
        "\n",
        "\n"
      ],
      "metadata": {
        "id": "zxLLfd5yGdAS"
      }
    },
    {
      "cell_type": "code",
      "source": [
        "# program to replace a word by another word in a sentence\n",
        "\n",
        "text = 'hand ball is a hand full of hands'\n",
        "\n",
        "# replace 'hand' with 'foot'\n",
        "replaced_text = text.replace('hand ', 'foot ')\n",
        "print(replaced_text)"
      ],
      "metadata": {
        "colab": {
          "base_uri": "https://localhost:8080/"
        },
        "id": "ZfBR6EY0HBhz",
        "outputId": "6afac033-885c-4eac-f747-264b15f48c6f"
      },
      "execution_count": null,
      "outputs": [
        {
          "output_type": "stream",
          "name": "stdout",
          "text": [
            "foot ball is a foot full of hands\n"
          ]
        }
      ]
    },
    {
      "cell_type": "markdown",
      "source": [
        "## **8. Program to remove a word from a sentence**\n",
        "\n",
        "\n",
        "\n",
        "*   Step 1: Input string, text and word to be deleted, word\n",
        "\n",
        "*   Step 2: Use function `remove()` to remove word from text\n",
        "\n",
        "*   Step 3: Assign result to text\n",
        "\n",
        "*   Step 4: Display text\n",
        "\n",
        "\n",
        "\n"
      ],
      "metadata": {
        "id": "72CraHocHHgK"
      }
    },
    {
      "cell_type": "code",
      "source": [
        "# program to remove a word from a sentence\n",
        "text = input(\"Enter the String: \")\n",
        "word = input(\"Enter a Word to Delete: \")\n",
        "\n",
        "text = text.replace(word, \"\")\n",
        "print(\"The updated sentence is:\\n\")\n",
        "print(text)"
      ],
      "metadata": {
        "colab": {
          "base_uri": "https://localhost:8080/"
        },
        "id": "1Go4EgmUHn0K",
        "outputId": "a5aba0b5-75b0-499e-f4c5-11e6c2a2d4ab"
      },
      "execution_count": null,
      "outputs": [
        {
          "output_type": "stream",
          "name": "stdout",
          "text": [
            "Enter the String: It is si good\n",
            "Enter a Word to Delete: si\n",
            "The updated sentence is:\n",
            "\n",
            "It is  good\n"
          ]
        }
      ]
    },
    {
      "cell_type": "markdown",
      "source": [
        "## **9. Program to split a sentence into words**\n",
        "\n",
        "\n",
        "\n",
        "*   Step 1: Split the words of text using `split()`\n",
        "\n",
        "*   Step 2: Assign the result to wordlist\n",
        "\n"
      ],
      "metadata": {
        "id": "YWbYPO28IycD"
      }
    },
    {
      "cell_type": "code",
      "source": [
        "wordlist = text.split()\n",
        "wordlist"
      ],
      "metadata": {
        "colab": {
          "base_uri": "https://localhost:8080/"
        },
        "id": "p5R51fBMK2lz",
        "outputId": "66f48c6c-41c9-4384-8938-15bc1bed8789"
      },
      "execution_count": null,
      "outputs": [
        {
          "output_type": "execute_result",
          "data": {
            "text/plain": [
              "['It', 'is', 'good']"
            ]
          },
          "metadata": {},
          "execution_count": 28
        }
      ]
    },
    {
      "cell_type": "markdown",
      "source": [
        "## **10. Program to check if a list of words is in a long string at least one**\n",
        "\n",
        "*   Step 1: Assign a list of words to keyword_list and a string to all_text\n",
        "\n",
        "*   Step 2: Display whether there any of the words in keyword_list is in all_text using `set(keyword_list).intersection(all_text.split())`\n",
        "\n"
      ],
      "metadata": {
        "id": "TuVnf3pdLBKV"
      }
    },
    {
      "cell_type": "code",
      "source": [
        "keyword_list = ['motorcycle', 'bike', 'bicycle', 'dirtbike', \"long\"]\n",
        "all_text = 'The bicycle is just as good company as most husbands and, when it gets old and shabby, a woman can dispose of it and get a new one without shocking the entire community'\n",
        "if set(keyword_list).intersection(all_text.split()):\n",
        "     print(\"Found One\")"
      ],
      "metadata": {
        "colab": {
          "base_uri": "https://localhost:8080/"
        },
        "id": "UvKHN7YMLubU",
        "outputId": "1153b8b2-5971-4382-e674-961a6dd39b6e"
      },
      "execution_count": null,
      "outputs": [
        {
          "output_type": "stream",
          "name": "stdout",
          "text": [
            "Found One\n"
          ]
        }
      ]
    },
    {
      "cell_type": "markdown",
      "source": [
        "## **11. Program to check a number is even or odd**\n",
        "\n",
        "*   Step 1: Input a number\n",
        "\n",
        "*   Step 2: Check if the number is divisible by 2\n",
        "  *   Step 2.1: If it is divisible by 2, display \"It is an even number\"\n",
        "  *   Step 2.2: If it is not divisible by 2, display \"It is an odd number\"\n",
        "\n",
        "\n",
        "\n",
        "\n"
      ],
      "metadata": {
        "id": "k8BGScbWLxL8"
      }
    },
    {
      "cell_type": "code",
      "source": [
        "num = int(input(\"Enter the Number: \"))\n",
        "if num%2==0:\n",
        "    print(\"\\n\",num,\"is an Even Number\")\n",
        "else:\n",
        "    print(\"\\n\",num,\"is an Odd Number\")"
      ],
      "metadata": {
        "id": "lir8J6mwLw47"
      },
      "execution_count": null,
      "outputs": []
    },
    {
      "cell_type": "markdown",
      "source": [
        "## **12. Program to check whether an entered one is an alphabet or not**\n",
        "\n",
        "\n",
        "\n",
        "*   Step 1: Input a character\n",
        "\n",
        "*   Step 2: If the character is between a and z, then print it is an alphabet\n",
        "\n",
        "*   Step 3: If the character is between A and Z, then print it is an alphabet\n",
        "\n",
        "*   Step 4: If both conditions are false, then print is it not an alphabet\n",
        "\n"
      ],
      "metadata": {
        "id": "Hv4aCI7UMegM"
      }
    },
    {
      "cell_type": "code",
      "source": [
        "c = input(\"Enter a Character: \")\n",
        "if c>='a' and c<='z':\n",
        "    print(\"\\nIt is an alphabet\")\n",
        "elif c>='A' and c<='z':\n",
        "    print(\"\\nIt is an alphabet\")\n",
        "else:\n",
        "    print(\"\\nIt is not an alphabet!\")"
      ],
      "metadata": {
        "colab": {
          "base_uri": "https://localhost:8080/"
        },
        "id": "b_29doD-NGF9",
        "outputId": "3c402adf-9f60-4ca3-91c9-0f83429c8860"
      },
      "execution_count": null,
      "outputs": [
        {
          "output_type": "stream",
          "name": "stdout",
          "text": [
            "Enter a Character: d\n",
            "\n",
            "It is an alphabet\n"
          ]
        }
      ]
    },
    {
      "cell_type": "markdown",
      "source": [
        "## **13. Program to check whether an entered letter is a vowel or not**\n",
        "\n",
        "\n",
        "\n",
        "*   Step 1: Input a character, c\n",
        "\n",
        "*   Step 2: Assign a list of vowels to v\n",
        "\n",
        "*   Step 3: If v is present in c, then print \"it is a vowel\"\n",
        "\n",
        "*   Step 4: If v is not present in c, then print \"It is a consonant\"\n",
        "\n"
      ],
      "metadata": {
        "id": "8wkL44IHNHwk"
      }
    },
    {
      "cell_type": "code",
      "source": [
        "c = input(\"Enter the Character: \")\n",
        "v={'a','e','i','o','u','A','E','I','O','U'}\n",
        "if c in v:\n",
        "    print(\"\\nIt is a Vowel\")\n",
        "else:\n",
        "    print(\"\\nIt is a Consonant\")"
      ],
      "metadata": {
        "colab": {
          "base_uri": "https://localhost:8080/"
        },
        "id": "eymn6EHTNjU_",
        "outputId": "e46fc1e8-421e-467d-d5bc-88fc3b2edae3"
      },
      "execution_count": null,
      "outputs": [
        {
          "output_type": "stream",
          "name": "stdout",
          "text": [
            "Enter the Character: g\n",
            "\n",
            "It is a Consonant\n"
          ]
        }
      ]
    },
    {
      "cell_type": "markdown",
      "source": [
        "## **14. Program to check leap year**\n",
        "\n",
        "\n",
        "\n",
        "*   Step 1: Input year\n",
        "\n",
        "*   Step 2: If the year is divisible by 4 and not by 100, print leap year\n",
        "\n",
        "*   Step 3: If the year is divisible by 400, print leap  year\n",
        "\n",
        "*   Step 5: If both conditions are false, then print not leap year\n",
        "\n",
        "\n",
        "\n"
      ],
      "metadata": {
        "id": "aUdIV8THNuEX"
      }
    },
    {
      "cell_type": "code",
      "source": [
        "y = int(input(\"Enter the Year: \"))\n",
        "\n",
        "if y%4==0 and y%100!=0:\n",
        "    print(\"\\nIt is a Leap Year\")\n",
        "elif y%400==0:\n",
        "    print(\"\\nIt is a Leap Year\")\n",
        "else:\n",
        "    print(\"\\nIt is not a Leap Year\")"
      ],
      "metadata": {
        "colab": {
          "base_uri": "https://localhost:8080/"
        },
        "id": "LPaAMgKJOOdU",
        "outputId": "ddfa933a-9ae2-4d7e-d7cb-84bc065fb696"
      },
      "execution_count": null,
      "outputs": [
        {
          "output_type": "stream",
          "name": "stdout",
          "text": [
            "Enter the Year: 2004\n",
            "\n",
            "It is a Leap Year\n"
          ]
        }
      ]
    },
    {
      "cell_type": "markdown",
      "source": [
        "## **15. Program to check whether a number is a perfect number or not**\n",
        "\n",
        "\n",
        "\n",
        "*   Step 1: Enter a number, num\n",
        "\n",
        "*   Step 2: Initialize sum as 0\n",
        "\n",
        "*   Step 3: for i=1 to n, if num is divisble by i, then add i to sum\n",
        "\n",
        "*   Step 4: if num==sum, then print \"Perfect Number\"\n",
        "\n",
        "*   Step 5: if num!=sum, then print \"Not a Perfect Number\"\n",
        "\n",
        "\n",
        "\n"
      ],
      "metadata": {
        "id": "RKdJ-5GIORCF"
      }
    },
    {
      "cell_type": "code",
      "source": [
        "num = int(input(\"Enter the Number:\"))\n",
        "sum = 0\n",
        "for i in range(1, num):\n",
        "  if num%i==0:\n",
        "    sum = sum+i\n",
        "if num==sum:\n",
        "  print(\"It is a Perfect Number\")\n",
        "else:\n",
        "  print(\"It is not a Perfect Number\")"
      ],
      "metadata": {
        "colab": {
          "base_uri": "https://localhost:8080/"
        },
        "id": "hHocK6b1ORY0",
        "outputId": "0dcb11f0-035a-4b9e-86db-94695d3f6973"
      },
      "execution_count": null,
      "outputs": [
        {
          "output_type": "stream",
          "name": "stdout",
          "text": [
            "Enter the Number:6\n",
            "It is a Perfect Number\n"
          ]
        }
      ]
    },
    {
      "cell_type": "markdown",
      "source": [
        "## **16. Program to test whether reversal of a number is same as itself**\n",
        "\n",
        "\n",
        "\n",
        "*   Step 1: input number, num\n",
        "\n",
        "*   Step 2: Initialize rev as 0\n",
        "\n",
        "*   Step 3: \n",
        "\n",
        "\n",
        "*   \n",
        "\n",
        "\n"
      ],
      "metadata": {
        "id": "sfmDJqIEPMqq"
      }
    },
    {
      "cell_type": "code",
      "source": [
        "num = int(input(\"Enter the Number: \"))\n",
        "rev = 0\n",
        "orig = num\n",
        "while num>0:\n",
        "    rem = num%10\n",
        "    rev = rem + (rev*10)\n",
        "    num = num//10\n",
        "\n",
        "if orig==rev:\n",
        "    print(\"\\nThe Number is Equal to Its Reverse\")\n",
        "else:\n",
        "    print(\"\\nThe Number is not Equal to Its Reverse\")"
      ],
      "metadata": {
        "colab": {
          "base_uri": "https://localhost:8080/"
        },
        "id": "LGgQLw9VPSA1",
        "outputId": "96b51aec-bc25-4adb-bc63-14fd4edcc4ec"
      },
      "execution_count": null,
      "outputs": [
        {
          "output_type": "stream",
          "name": "stdout",
          "text": [
            "Enter the Number: 232\n",
            "\n",
            "The Number is Equal to Its Reverse\n"
          ]
        }
      ]
    }
  ]
}