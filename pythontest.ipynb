{
  "nbformat": 4,
  "nbformat_minor": 0,
  "metadata": {
    "colab": {
      "provenance": [],
      "authorship_tag": "ABX9TyOhbSheVZ7tAdx7OBplKDYA",
      "include_colab_link": true
    },
    "kernelspec": {
      "name": "python3",
      "display_name": "Python 3"
    },
    "language_info": {
      "name": "python"
    }
  },
  "cells": [
    {
      "cell_type": "markdown",
      "metadata": {
        "id": "view-in-github",
        "colab_type": "text"
      },
      "source": [
        "<a href=\"https://colab.research.google.com/github/riii-257/basicpython/blob/main/pythontest.ipynb\" target=\"_parent\"><img src=\"https://colab.research.google.com/assets/colab-badge.svg\" alt=\"Open In Colab\"/></a>"
      ]
    },
    {
      "cell_type": "markdown",
      "source": [
        ">To test whether a number is odd or even"
      ],
      "metadata": {
        "id": "NtgFuWw9MN5E"
      }
    },
    {
      "cell_type": "code",
      "execution_count": null,
      "metadata": {
        "colab": {
          "base_uri": "https://localhost:8080/"
        },
        "id": "3TvuqJEfKsRv",
        "outputId": "090843ef-015d-4e30-9505-6556dbd80b05"
      },
      "outputs": [
        {
          "output_type": "stream",
          "name": "stdout",
          "text": [
            "Enter a number: 5\n",
            "5 is an odd number\n"
          ]
        }
      ],
      "source": [
        "num=int(input(\"Enter a number: \"))\n",
        "if num%2==0:\n",
        "  print(num, \"is an even number\")\n",
        "else: \n",
        "  print(num, \"is an odd number\")"
      ]
    },
    {
      "cell_type": "markdown",
      "source": [
        ">To find the palindrome of a number"
      ],
      "metadata": {
        "id": "DUeuvpOZMUYQ"
      }
    },
    {
      "cell_type": "code",
      "source": [
        "num=int(input(\"Enter a number: \"))\n",
        "rev=0\n",
        "while num>0:\n",
        "  l= num%10\n",
        "  num= int(num/10)\n",
        "  rev=(rev*10)+l\n",
        "print(\"Reverse of inputted number=\", rev)"
      ],
      "metadata": {
        "colab": {
          "base_uri": "https://localhost:8080/"
        },
        "id": "myqE5hXJL1Gw",
        "outputId": "355a026c-0b87-4dd4-a58e-ab540a19eef4"
      },
      "execution_count": null,
      "outputs": [
        {
          "output_type": "stream",
          "name": "stdout",
          "text": [
            "Enter a number: 987\n",
            "Reverse of inputted number= 789\n"
          ]
        }
      ]
    },
    {
      "cell_type": "markdown",
      "source": [
        ">To print the pattern if the inputted number is 3\n",
        "\n",
        "1\n",
        "\n",
        "1 2\n",
        "\n",
        "1 2 3"
      ],
      "metadata": {
        "id": "Rp4eE2chNETq"
      }
    },
    {
      "cell_type": "code",
      "source": [
        "n=int(input(\"Enter a number: \"))\n",
        "for i in range(1,n+1):\n",
        "  for j in range(1,i+1):\n",
        "    print(j, end=\" \")\n",
        "  print(\"\\n\")"
      ],
      "metadata": {
        "colab": {
          "base_uri": "https://localhost:8080/"
        },
        "id": "tbPvoBz3Nfsv",
        "outputId": "c41b0d57-355b-4f39-c14d-aac0d7cda0a2"
      },
      "execution_count": null,
      "outputs": [
        {
          "output_type": "stream",
          "name": "stdout",
          "text": [
            "Enter a number: 5\n",
            "1 \n",
            "\n",
            "1 2 \n",
            "\n",
            "1 2 3 \n",
            "\n",
            "1 2 3 4 \n",
            "\n",
            "1 2 3 4 5 \n",
            "\n"
          ]
        }
      ]
    }
  ]
}